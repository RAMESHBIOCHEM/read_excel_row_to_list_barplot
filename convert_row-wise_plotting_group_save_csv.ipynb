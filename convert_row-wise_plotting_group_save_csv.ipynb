{
 "cells": [
  {
   "cell_type": "code",
   "execution_count": 1,
   "metadata": {},
   "outputs": [],
   "source": [
    "# libraries\n",
    "import numpy as np\n",
    "# importing package\n",
    "import matplotlib.pyplot as plt\n",
    "import pandas as pd"
   ]
  },
  {
   "cell_type": "code",
   "execution_count": 2,
   "metadata": {},
   "outputs": [],
   "source": [
    "df = pd.read_excel('ion_conductance_50_ions_system.xlsx', index=False)"
   ]
  },
  {
   "cell_type": "code",
   "execution_count": 3,
   "metadata": {},
   "outputs": [
    {
     "data": {
      "text/html": [
       "<div>\n",
       "<style scoped>\n",
       "    .dataframe tbody tr th:only-of-type {\n",
       "        vertical-align: middle;\n",
       "    }\n",
       "\n",
       "    .dataframe tbody tr th {\n",
       "        vertical-align: top;\n",
       "    }\n",
       "\n",
       "    .dataframe thead th {\n",
       "        text-align: right;\n",
       "    }\n",
       "</style>\n",
       "<table border=\"1\" class=\"dataframe\">\n",
       "  <thead>\n",
       "    <tr style=\"text-align: right;\">\n",
       "      <th></th>\n",
       "      <th>Cations</th>\n",
       "      <th>n200mV</th>\n",
       "      <th>p200mV</th>\n",
       "      <th>n400mV</th>\n",
       "      <th>p400mV</th>\n",
       "    </tr>\n",
       "  </thead>\n",
       "  <tbody>\n",
       "    <tr>\n",
       "      <th>0</th>\n",
       "      <td>Li</td>\n",
       "      <td>25.2616</td>\n",
       "      <td>20.2028</td>\n",
       "      <td>58.9693</td>\n",
       "      <td>55.5672</td>\n",
       "    </tr>\n",
       "    <tr>\n",
       "      <th>1</th>\n",
       "      <td>Na</td>\n",
       "      <td>135.8357</td>\n",
       "      <td>124.7299</td>\n",
       "      <td>181.4741</td>\n",
       "      <td>179.1702</td>\n",
       "    </tr>\n",
       "    <tr>\n",
       "      <th>2</th>\n",
       "      <td>K</td>\n",
       "      <td>410.9271</td>\n",
       "      <td>266.7957</td>\n",
       "      <td>429.6448</td>\n",
       "      <td>371.1006</td>\n",
       "    </tr>\n",
       "    <tr>\n",
       "      <th>3</th>\n",
       "      <td>Rb</td>\n",
       "      <td>254.6942</td>\n",
       "      <td>249.8341</td>\n",
       "      <td>464.7185</td>\n",
       "      <td>343.2679</td>\n",
       "    </tr>\n",
       "    <tr>\n",
       "      <th>4</th>\n",
       "      <td>Cs</td>\n",
       "      <td>297.7917</td>\n",
       "      <td>362.2003</td>\n",
       "      <td>363.0103</td>\n",
       "      <td>343.1987</td>\n",
       "    </tr>\n",
       "  </tbody>\n",
       "</table>\n",
       "</div>"
      ],
      "text/plain": [
       "  Cations    n200mV    p200mV    n400mV    p400mV\n",
       "0      Li   25.2616   20.2028   58.9693   55.5672\n",
       "1      Na  135.8357  124.7299  181.4741  179.1702\n",
       "2       K  410.9271  266.7957  429.6448  371.1006\n",
       "3      Rb  254.6942  249.8341  464.7185  343.2679\n",
       "4      Cs  297.7917  362.2003  363.0103  343.1987"
      ]
     },
     "execution_count": 3,
     "metadata": {},
     "output_type": "execute_result"
    }
   ],
   "source": [
    "df"
   ]
  },
  {
   "cell_type": "code",
   "execution_count": 4,
   "metadata": {},
   "outputs": [],
   "source": [
    "df2=df.T"
   ]
  },
  {
   "cell_type": "code",
   "execution_count": 5,
   "metadata": {},
   "outputs": [],
   "source": [
    "df2.to_csv('file.csv')"
   ]
  },
  {
   "cell_type": "code",
   "execution_count": 6,
   "metadata": {},
   "outputs": [],
   "source": [
    "dd = pd.read_csv('file.csv', skiprows=1)"
   ]
  },
  {
   "cell_type": "code",
   "execution_count": 7,
   "metadata": {},
   "outputs": [
    {
     "data": {
      "text/html": [
       "<div>\n",
       "<style scoped>\n",
       "    .dataframe tbody tr th:only-of-type {\n",
       "        vertical-align: middle;\n",
       "    }\n",
       "\n",
       "    .dataframe tbody tr th {\n",
       "        vertical-align: top;\n",
       "    }\n",
       "\n",
       "    .dataframe thead th {\n",
       "        text-align: right;\n",
       "    }\n",
       "</style>\n",
       "<table border=\"1\" class=\"dataframe\">\n",
       "  <thead>\n",
       "    <tr style=\"text-align: right;\">\n",
       "      <th></th>\n",
       "      <th>Cations</th>\n",
       "      <th>Li</th>\n",
       "      <th>Na</th>\n",
       "      <th>K</th>\n",
       "      <th>Rb</th>\n",
       "      <th>Cs</th>\n",
       "    </tr>\n",
       "  </thead>\n",
       "  <tbody>\n",
       "    <tr>\n",
       "      <th>0</th>\n",
       "      <td>n200mV</td>\n",
       "      <td>25.2616</td>\n",
       "      <td>135.8357</td>\n",
       "      <td>410.9271</td>\n",
       "      <td>254.6942</td>\n",
       "      <td>297.7917</td>\n",
       "    </tr>\n",
       "    <tr>\n",
       "      <th>1</th>\n",
       "      <td>p200mV</td>\n",
       "      <td>20.2028</td>\n",
       "      <td>124.7299</td>\n",
       "      <td>266.7957</td>\n",
       "      <td>249.8341</td>\n",
       "      <td>362.2003</td>\n",
       "    </tr>\n",
       "    <tr>\n",
       "      <th>2</th>\n",
       "      <td>n400mV</td>\n",
       "      <td>58.9693</td>\n",
       "      <td>181.4741</td>\n",
       "      <td>429.6448</td>\n",
       "      <td>464.7185</td>\n",
       "      <td>363.0103</td>\n",
       "    </tr>\n",
       "    <tr>\n",
       "      <th>3</th>\n",
       "      <td>p400mV</td>\n",
       "      <td>55.5672</td>\n",
       "      <td>179.1702</td>\n",
       "      <td>371.1006</td>\n",
       "      <td>343.2679</td>\n",
       "      <td>343.1987</td>\n",
       "    </tr>\n",
       "  </tbody>\n",
       "</table>\n",
       "</div>"
      ],
      "text/plain": [
       "  Cations       Li        Na         K        Rb        Cs\n",
       "0  n200mV  25.2616  135.8357  410.9271  254.6942  297.7917\n",
       "1  p200mV  20.2028  124.7299  266.7957  249.8341  362.2003\n",
       "2  n400mV  58.9693  181.4741  429.6448  464.7185  363.0103\n",
       "3  p400mV  55.5672  179.1702  371.1006  343.2679  343.1987"
      ]
     },
     "execution_count": 7,
     "metadata": {},
     "output_type": "execute_result"
    }
   ],
   "source": [
    "dd"
   ]
  },
  {
   "cell_type": "code",
   "execution_count": 8,
   "metadata": {},
   "outputs": [],
   "source": [
    "#Li = dd['Li'].tolist()\n",
    "#Na = dd['Na'].tolist()"
   ]
  },
  {
   "cell_type": "code",
   "execution_count": 9,
   "metadata": {},
   "outputs": [
    {
     "name": "stdout",
     "output_type": "stream",
     "text": [
      "  Cations       Li        Na         K        Rb        Cs\n",
      "0  n200mV  25.2616  135.8357  410.9271  254.6942  297.7917\n",
      "1  p200mV  20.2028  124.7299  266.7957  249.8341  362.2003\n",
      "2  n400mV  58.9693  181.4741  429.6448  464.7185  363.0103\n",
      "3  p400mV  55.5672  179.1702  371.1006  343.2679  343.1987\n"
     ]
    },
    {
     "data": {
      "text/plain": [
       "Text(0, 0.5, 'Conductance')"
      ]
     },
     "execution_count": 9,
     "metadata": {},
     "output_type": "execute_result"
    },
    {
     "data": {
      "image/png": "[encoded data removed]",
      "text/plain": [
       "<Figure size 432x288 with 1 Axes>"
      ]
     },
     "metadata": {
      "needs_background": "light"
     },
     "output_type": "display_data"
    }
   ],
   "source": [
    "foo = pd.DataFrame(dd,\n",
    "                  columns=['Cations', 'Li', 'Na', 'K', 'Rb','Cs'])\n",
    "# view data\n",
    "print(foo)\n",
    "  \n",
    "# plot grouped bar chart\n",
    "ax = foo.plot(x='Cations',\n",
    "        kind='bar',\n",
    "        stacked=False,\n",
    "        title='Grouped Bar Graph with dataframe')\n",
    "ax.set_ylabel('Conductance')"
   ]
  },
  {
   "cell_type": "code",
   "execution_count": null,
   "metadata": {},
   "outputs": [],
   "source": []
  }
 ],
 "metadata": {
  "kernelspec": {
   "display_name": "Python 3",
   "language": "python",
   "name": "python3"
  },
  "language_info": {
   "codemirror_mode": {
    "name": "ipython",
    "version": 3
   },
   "file_extension": ".py",
   "mimetype": "text/x-python",
   "name": "python",
   "nbconvert_exporter": "python",
   "pygments_lexer": "ipython3",
   "version": "3.8.3"
  }
 },
 "nbformat": 4,
 "nbformat_minor": 4
}
